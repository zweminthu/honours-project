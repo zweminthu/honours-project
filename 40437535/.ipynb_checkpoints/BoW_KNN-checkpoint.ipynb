{
 "cells": [
  {
   "cell_type": "code",
   "execution_count": 18,
   "metadata": {},
   "outputs": [],
   "source": [
    "from sklearn.feature_extraction.text import CountVectorizer\n",
    "from sklearn.feature_extraction.text import TfidfTransformer\n",
    "from sklearn.neighbors import KNeighborsClassifier\n",
    "import sklearn.metrics as metrics\n",
    "from sklearn.metrics import multilabel_confusion_matrix\n",
    "import pandas as pd\n",
    "import numpy as np"
   ]
  },
  {
   "cell_type": "code",
   "execution_count": 19,
   "metadata": {},
   "outputs": [],
   "source": [
    "train = pd.read_csv('train.csv')\n",
    "test = pd.read_csv('test.csv')\n",
    "t_label = pd.read_csv('test_label.csv')"
   ]
  },
  {
   "cell_type": "code",
   "execution_count": 20,
   "metadata": {},
   "outputs": [
    {
     "data": {
      "text/plain": [
       "array([[0, 0, 0, 1, 0],\n",
       "       [1, 0, 0, 0, 0],\n",
       "       [0, 0, 1, 0, 0],\n",
       "       ...,\n",
       "       [0, 0, 1, 0, 0],\n",
       "       [0, 0, 1, 0, 0],\n",
       "       [1, 0, 0, 0, 0]], dtype=int64)"
      ]
     },
     "execution_count": 20,
     "metadata": {},
     "output_type": "execute_result"
    }
   ],
   "source": [
    "#train.head()\n",
    "a_test = np.array(t_label)\n",
    "a_test"
   ]
  },
  {
   "cell_type": "code",
   "execution_count": 21,
   "metadata": {},
   "outputs": [
    {
     "data": {
      "text/plain": [
       "(84.68144285714286, 49.529844783552434, 269)"
      ]
     },
     "execution_count": 21,
     "metadata": {},
     "output_type": "execute_result"
    }
   ],
   "source": [
    "length = train.Tweets.str.len()\n",
    "length.mean(), length.std(), length.max()"
   ]
  },
  {
   "cell_type": "code",
   "execution_count": 22,
   "metadata": {
    "scrolled": true
   },
   "outputs": [
    {
     "data": {
      "image/png": "[encoded data removed]",
      "text/plain": [
       "<Figure size 432x288 with 1 Axes>"
      ]
     },
     "metadata": {
      "needs_background": "light"
     },
     "output_type": "display_data"
    }
   ],
   "source": [
    "length.hist();"
   ]
  },
  {
   "cell_type": "code",
   "execution_count": 24,
   "metadata": {},
   "outputs": [
    {
     "data": {
      "text/html": [
       "<div>\n",
       "<style scoped>\n",
       "    .dataframe tbody tr th:only-of-type {\n",
       "        vertical-align: middle;\n",
       "    }\n",
       "\n",
       "    .dataframe tbody tr th {\n",
       "        vertical-align: top;\n",
       "    }\n",
       "\n",
       "    .dataframe thead th {\n",
       "        text-align: right;\n",
       "    }\n",
       "</style>\n",
       "<table border=\"1\" class=\"dataframe\">\n",
       "  <thead>\n",
       "    <tr style=\"text-align: right;\">\n",
       "      <th></th>\n",
       "      <th>Openness</th>\n",
       "      <th>Conscientiousness</th>\n",
       "      <th>Extraversion</th>\n",
       "      <th>Agreeableness</th>\n",
       "      <th>Neurotocism</th>\n",
       "      <th>none</th>\n",
       "    </tr>\n",
       "  </thead>\n",
       "  <tbody>\n",
       "    <tr>\n",
       "      <th>count</th>\n",
       "      <td>70000.000000</td>\n",
       "      <td>70000.000000</td>\n",
       "      <td>70000.000000</td>\n",
       "      <td>70000.000000</td>\n",
       "      <td>70000.000000</td>\n",
       "      <td>70000.0</td>\n",
       "    </tr>\n",
       "    <tr>\n",
       "      <th>mean</th>\n",
       "      <td>0.188357</td>\n",
       "      <td>0.230300</td>\n",
       "      <td>0.142529</td>\n",
       "      <td>0.156800</td>\n",
       "      <td>0.286971</td>\n",
       "      <td>0.0</td>\n",
       "    </tr>\n",
       "    <tr>\n",
       "      <th>std</th>\n",
       "      <td>0.391000</td>\n",
       "      <td>0.421028</td>\n",
       "      <td>0.349594</td>\n",
       "      <td>0.363615</td>\n",
       "      <td>0.452351</td>\n",
       "      <td>0.0</td>\n",
       "    </tr>\n",
       "    <tr>\n",
       "      <th>min</th>\n",
       "      <td>0.000000</td>\n",
       "      <td>0.000000</td>\n",
       "      <td>0.000000</td>\n",
       "      <td>0.000000</td>\n",
       "      <td>0.000000</td>\n",
       "      <td>0.0</td>\n",
       "    </tr>\n",
       "    <tr>\n",
       "      <th>25%</th>\n",
       "      <td>0.000000</td>\n",
       "      <td>0.000000</td>\n",
       "      <td>0.000000</td>\n",
       "      <td>0.000000</td>\n",
       "      <td>0.000000</td>\n",
       "      <td>0.0</td>\n",
       "    </tr>\n",
       "    <tr>\n",
       "      <th>50%</th>\n",
       "      <td>0.000000</td>\n",
       "      <td>0.000000</td>\n",
       "      <td>0.000000</td>\n",
       "      <td>0.000000</td>\n",
       "      <td>0.000000</td>\n",
       "      <td>0.0</td>\n",
       "    </tr>\n",
       "    <tr>\n",
       "      <th>75%</th>\n",
       "      <td>0.000000</td>\n",
       "      <td>0.000000</td>\n",
       "      <td>0.000000</td>\n",
       "      <td>0.000000</td>\n",
       "      <td>1.000000</td>\n",
       "      <td>0.0</td>\n",
       "    </tr>\n",
       "    <tr>\n",
       "      <th>max</th>\n",
       "      <td>1.000000</td>\n",
       "      <td>1.000000</td>\n",
       "      <td>1.000000</td>\n",
       "      <td>1.000000</td>\n",
       "      <td>1.000000</td>\n",
       "      <td>0.0</td>\n",
       "    </tr>\n",
       "  </tbody>\n",
       "</table>\n",
       "</div>"
      ],
      "text/plain": [
       "           Openness  Conscientiousness  Extraversion  Agreeableness  \\\n",
       "count  70000.000000       70000.000000  70000.000000   70000.000000   \n",
       "mean       0.188357           0.230300      0.142529       0.156800   \n",
       "std        0.391000           0.421028      0.349594       0.363615   \n",
       "min        0.000000           0.000000      0.000000       0.000000   \n",
       "25%        0.000000           0.000000      0.000000       0.000000   \n",
       "50%        0.000000           0.000000      0.000000       0.000000   \n",
       "75%        0.000000           0.000000      0.000000       0.000000   \n",
       "max        1.000000           1.000000      1.000000       1.000000   \n",
       "\n",
       "        Neurotocism     none  \n",
       "count  70000.000000  70000.0  \n",
       "mean       0.286971      0.0  \n",
       "std        0.452351      0.0  \n",
       "min        0.000000      0.0  \n",
       "25%        0.000000      0.0  \n",
       "50%        0.000000      0.0  \n",
       "75%        1.000000      0.0  \n",
       "max        1.000000      0.0  "
      ]
     },
     "execution_count": 24,
     "metadata": {},
     "output_type": "execute_result"
    }
   ],
   "source": [
    "trait_cols = [ 'Openness', 'Conscientiousness', 'Extraversion', 'Agreeableness', 'Neuroticism']\n",
    "train['none'] = 1-train[trait_cols].max(axis=1)\n",
    "train.describe()"
   ]
  },
  {
   "cell_type": "code",
   "execution_count": 7,
   "metadata": {},
   "outputs": [
    {
     "data": {
      "text/plain": [
       "(70000, 32258)"
      ]
     },
     "execution_count": 7,
     "metadata": {},
     "output_type": "execute_result"
    }
   ],
   "source": [
    "len(train),len(test)"
   ]
  },
  {
   "cell_type": "code",
   "execution_count": 8,
   "metadata": {},
   "outputs": [],
   "source": [
    "TWEET = 'Tweets'\n",
    "train[TWEET].fillna(\"unknown\", inplace=True)\n",
    "test[TWEET].fillna(\"unknown\", inplace=True)"
   ]
  },
  {
   "cell_type": "code",
   "execution_count": 9,
   "metadata": {},
   "outputs": [],
   "source": [
    "n = train.shape[0]\n",
    "vec = CountVectorizer(ngram_range=(1,2), min_df=3, max_df=0.9, strip_accents='unicode')\n",
    "train_term_doc = vec.fit_transform(train[TWEET])\n",
    "test_term_doc = vec.transform(test[TWEET])"
   ]
  },
  {
   "cell_type": "code",
   "execution_count": 10,
   "metadata": {},
   "outputs": [
    {
     "data": {
      "text/plain": [
       "(<70000x53363 sparse matrix of type '<class 'numpy.int64'>'\n",
       " \twith 1065439 stored elements in Compressed Sparse Row format>,\n",
       " <32258x53363 sparse matrix of type '<class 'numpy.int64'>'\n",
       " \twith 494306 stored elements in Compressed Sparse Row format>)"
      ]
     },
     "execution_count": 10,
     "metadata": {},
     "output_type": "execute_result"
    }
   ],
   "source": [
    "train_term_doc, test_term_doc"
   ]
  },
  {
   "cell_type": "code",
   "execution_count": 11,
   "metadata": {},
   "outputs": [],
   "source": [
    "def pr(y_i, y):\n",
    "    p = train_x[y==y_i].sum(0)\n",
    "    return (p+1) / ((y==y_i).sum()+1)"
   ]
  },
  {
   "cell_type": "code",
   "execution_count": 12,
   "metadata": {},
   "outputs": [],
   "source": [
    "train_x = train_term_doc\n",
    "test_x = test_term_doc"
   ]
  },
  {
   "cell_type": "code",
   "execution_count": 13,
   "metadata": {},
   "outputs": [],
   "source": [
    "def get_model(y):\n",
    "    y = y.values\n",
    "    r = np.log(pr(1,y) / pr(0,y))\n",
    "    m = KNeighborsClassifier(n_neighbors=5)\n",
    "    x_nb = train_x.multiply(r)\n",
    "    return m.fit(x_nb, y), r"
   ]
  },
  {
   "cell_type": "code",
   "execution_count": 14,
   "metadata": {},
   "outputs": [
    {
     "name": "stdout",
     "output_type": "stream",
     "text": [
      "fit Openness\n",
      "fit Conscientiousness\n",
      "fit Extraversion\n",
      "fit Agreeableness\n",
      "fit Neurotocism\n"
     ]
    }
   ],
   "source": [
    "predicts = np.zeros((len(test), len(trait_cols)))\n",
    "\n",
    "for i, t in enumerate(trait_cols):\n",
    "    print('fit', t)\n",
    "    m, r = get_model(train[t])\n",
    "    predicts[:,i] = m.predict_proba(test_x.multiply(r))[:,1]"
   ]
  },
  {
   "cell_type": "code",
   "execution_count": 16,
   "metadata": {},
   "outputs": [
    {
     "name": "stdout",
     "output_type": "stream",
     "text": [
      "Hamming_loss:\t 0.005133610267220534\n",
      "Precision:\t 0.9922393831033709\n",
      "Recall:\t 0.9819061710128846\n",
      "F1:\t 0.98715204214511\n",
      "F_beta:\t 0.9899126428511387\n",
      "The accuracy is 98.03459606919213%\n"
     ]
    }
   ],
   "source": [
    "preds = np.rint(predicts)\n",
    "print(\"Hamming_loss:\\t\", metrics.hamming_loss(a_test, preds))\n",
    "print(\"Precision:\\t\", metrics.precision_score(a_test, preds, average='macro'))\n",
    "print(\"Recall:\\t\", metrics.recall_score(a_test, preds, average='micro'))\n",
    "print(\"F1:\\t\", metrics.f1_score(a_test, preds, average='weighted'))\n",
    "print(\"F_beta:\\t\", metrics.fbeta_score(a_test, preds, average='macro', beta=0.5))\n",
    "accuracy = metrics.accuracy_score(a_test, preds)\n",
    "print(\"The accuracy is \" + str(accuracy *100) + \"%\")"
   ]
  },
  {
   "cell_type": "code",
   "execution_count": 17,
   "metadata": {},
   "outputs": [
    {
     "data": {
      "text/plain": [
       "array([[[25182,   116],\n",
       "        [  202,  6758]],\n",
       "\n",
       "       [[23883,     1],\n",
       "        [   72,  8302]],\n",
       "\n",
       "       [[27318,    36],\n",
       "        [  179,  4725]],\n",
       "\n",
       "       [[26227,     2],\n",
       "        [   55,  5974]],\n",
       "\n",
       "       [[25997,    86],\n",
       "        [   79,  6096]]], dtype=int64)"
      ]
     },
     "execution_count": 17,
     "metadata": {},
     "output_type": "execute_result"
    }
   ],
   "source": [
    "multilabel_confusion_matrix(a_test, preds)"
   ]
  },
  {
   "cell_type": "code",
   "execution_count": 42,
   "metadata": {},
   "outputs": [],
   "source": [
    "result = pd.DataFrame(predicts, columns = trait_cols)\n",
    "result.to_csv('result.csv', index=False)"
   ]
  }
 ],
 "metadata": {
  "kernelspec": {
   "display_name": "Python 3",
   "language": "python",
   "name": "python3"
  },
  "language_info": {
   "codemirror_mode": {
    "name": "ipython",
    "version": 3
   },
   "file_extension": ".py",
   "mimetype": "text/x-python",
   "name": "python",
   "nbconvert_exporter": "python",
   "pygments_lexer": "ipython3",
   "version": "3.7.5rc1"
  }
 },
 "nbformat": 4,
 "nbformat_minor": 2
}
